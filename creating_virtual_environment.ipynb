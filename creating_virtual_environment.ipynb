{
  "nbformat": 4,
  "nbformat_minor": 0,
  "metadata": {
    "colab": {
      "name": "creating virtual environment.ipynb",
      "version": "0.3.2",
      "provenance": []
    },
    "kernelspec": {
      "name": "python3",
      "display_name": "Python 3"
    }
  },
  "cells": [
    {
      "cell_type": "code",
      "metadata": {
        "id": "8miigbh13Lc0",
        "colab_type": "code",
        "colab": {}
      },
      "source": [
        "pip install virtualenv\n",
        "\n",
        "pip list\n",
        "\n",
        "mkdir Environment\n",
        "\n",
        "cd Environment\n",
        "\n",
        "virtualenv project1_env\n",
        "\n",
        "source project1_env/bin/activate\n",
        "\n"
      ],
      "execution_count": 0,
      "outputs": []
    },
    {
      "cell_type": "code",
      "metadata": {
        "id": "Iwt1z53F4DFW",
        "colab_type": "code",
        "colab": {}
      },
      "source": [
        "which python\n",
        "\n",
        "pip list\n",
        "\n",
        "pip install numpy\n",
        "\n",
        "pip install pytz\n",
        "\n",
        "pip install psutil\n",
        "\n",
        "pip freeze --local > requirements.txt\n",
        "\n",
        "ls\n",
        "\n",
        "cat requirements.txt\n",
        "\n",
        "# get out of you venv\n",
        "deactivate\n",
        "\n",
        "#to delete the above created venv \n",
        "rm -rf project1_env/"
      ],
      "execution_count": 0,
      "outputs": []
    }
  ]
}