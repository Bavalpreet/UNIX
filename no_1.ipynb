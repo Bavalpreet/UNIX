{
  "nbformat": 4,
  "nbformat_minor": 0,
  "metadata": {
    "colab": {
      "name": "no_1.ipynb",
      "version": "0.3.2",
      "provenance": []
    },
    "kernelspec": {
      "name": "python3",
      "display_name": "Python 3"
    }
  },
  "cells": [
    {
      "cell_type": "code",
      "metadata": {
        "id": "wm0ysuMxd1F0",
        "colab_type": "code",
        "colab": {}
      },
      "source": [
        ""
      ],
      "execution_count": 0,
      "outputs": []
    },
    {
      "cell_type": "markdown",
      "metadata": {
        "id": "3b_fKHvYd3RA",
        "colab_type": "text"
      },
      "source": [
        "ls - list of directories\n",
        "\n",
        "---\n",
        "\n",
        "\n",
        "cd - used to change the directory\n",
        "\n",
        "---\n",
        "\n",
        "\n",
        "clear - used to clear the terminal\n",
        "\n",
        "---\n",
        "\n",
        "\n",
        "pwd - used to print working directory\n",
        "\n",
        "---\n",
        "\n",
        "\n",
        "cat - to see contens of the file\n",
        "\n",
        "---\n",
        "\n",
        "\n",
        "man- manual command use it as [man ls]\n",
        "\n",
        "---\n",
        "\n",
        "\n",
        "ls -l  - to list files in long form\n",
        "\n",
        "---\n",
        "\n",
        "\n",
        "ls -a  will show me the hidden files in the directories.\n",
        "\n",
        "---\n",
        "\n",
        "How do I reach anything under the home directory?\n",
        "ls /Users/bavalpreet/\n",
        "\n",
        "or by\n",
        "\n",
        "ls ~\n",
        "\n",
        "or by\n",
        "\n",
        "ls ..\n",
        "\n",
        "---\n",
        "\n",
        "ls .."
      ]
    }
  ]
}