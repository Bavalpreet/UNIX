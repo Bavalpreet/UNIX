{
  "nbformat": 4,
  "nbformat_minor": 0,
  "metadata": {
    "colab": {
      "name": "no_2.ipynb",
      "version": "0.3.2",
      "provenance": []
    },
    "kernelspec": {
      "name": "python3",
      "display_name": "Python 3"
    }
  },
  "cells": [
    {
      "cell_type": "code",
      "metadata": {
        "id": "rZPw8RMV9G6t",
        "colab_type": "code",
        "colab": {}
      },
      "source": [
        ""
      ],
      "execution_count": 0,
      "outputs": []
    },
    {
      "cell_type": "markdown",
      "metadata": {
        "id": "63h0aa6N9H6z",
        "colab_type": "text"
      },
      "source": [
        "#utility commands in unix system\n",
        "\n",
        "mkdir - to make directory\n",
        "\n",
        "\n",
        "---\n",
        "\n",
        "cd\n",
        "\n",
        "1)  \".\"   = or current directory\n",
        "\n",
        "2)  \"..\"  = for parent directory\n",
        "\n",
        "3)  \"~\" = for home directory\n",
        "\n",
        "\n",
        "\n",
        "\n",
        "---\n",
        "\n",
        "star character\n",
        "that serves as a wildcard to replace\n",
        "any other character within a given pattern.\n",
        "For example, if I list *.txt\n",
        "it will list all the files with a .txt extension.\n",
        "\n",
        "\" * \" = wildcard\n",
        "\n",
        "\n",
        "---\n",
        "\n",
        "I would like to also talk about\n",
        "the three file descriptors\n",
        "the shell starts when they start up.\n",
        "These descriptors are always ready for commands to use.\n",
        "\n",
        "\n",
        "Standard input(stdin)\n",
        "-usually from the keyboard\n",
        "\n",
        "Standard output(stdout)\n",
        "-usually to the terminal\n",
        "\n",
        "-Standard error(stderr)\n",
        "usually to the terminal\n",
        "\n",
        "---\n",
        "\n",
        "\n"
      ]
    },
    {
      "cell_type": "markdown",
      "metadata": {
        "id": "c4RMmnL_9JDc",
        "colab_type": "text"
      },
      "source": [
        "\n",
        "Here i am previously having  two text files  named fruits.txt and shakespeare.txt in  directory named as Python4DS.these two text files further have some content in them.\n",
        "\n",
        "---\n",
        "\n",
        "\n",
        "mkdir My1stDir = to make new directory\n",
        "\n",
        "---\n",
        "\n",
        "ls -la = to get list of hidden files in long form\n",
        "\n",
        "---\n",
        "\n",
        "ls .. = will show you files under parent directory\n",
        "\n",
        "\n",
        "---\n",
        "\n",
        "cat ../fruits.txt while residing in My1stDir we are accessing the content(files) of parent directory.\n",
        "\n",
        "---\n",
        "\n",
        "if i have to copy file(fruits.txt) from where it is residing to current directory\n",
        "\n",
        "cp ../fruits.txt .\n",
        "\n",
        "\n",
        "\n",
        "---\n",
        "if i have to move file(shakespeare.txt) from where it is residing to current directory\n",
        "\n",
        "mv ../shakespeare.txt .\n",
        "\n",
        "---\n",
        "\n",
        "Remember that star character,\n",
        "and say, \"ls *.txt\",\n",
        "so what I'm communicating to the shell here is\n",
        "I would like to list anything with a  .txt extension.\n",
        "\n",
        "ls *.txt\n"
      ]
    }
  ]
}